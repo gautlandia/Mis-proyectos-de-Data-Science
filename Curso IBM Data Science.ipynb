{
 "cells": [
  {
   "cell_type": "markdown",
   "metadata": {},
   "source": [
    "Curso IBM Data Science"
   ]
  },
  {
   "cell_type": "markdown",
   "metadata": {},
   "source": [
    "In this notebook, Data Science Tools and Ecosystem are summarized."
   ]
  },
  {
   "cell_type": "markdown",
   "metadata": {},
   "source": [
    "Lista de lengajes de ciencia de datos:\n",
    "1 Python\n",
    "2 R\n",
    "3 SQL\n",
    "4 Julia\n",
    "5 Scala\n",
    "6 Java\n",
    "7 C++\n"
   ]
  },
  {
   "cell_type": "markdown",
   "metadata": {},
   "source": [
    "Lista de librerías de ciencia de datos: \n",
    "1 Pandas\n",
    "2 NumPy\n",
    "3 SciPy\n",
    "4 Matplotlib\n",
    "5 Keras\n",
    "6 Seaborn\n",
    "7 PyTorch"
   ]
  },
  {
   "cell_type": "markdown",
   "metadata": {},
   "source": [
    "|Herramienta |\n",
    "| ---------- |\n",
    "| Jupiter Notebook | \n",
    "| Orange | \n",
    "| Anaconda |\n",
    "| GitHub |\n",
    "| RStudio |\n",
    "| Haddop |\n",
    "| MongoDB |\n",
    "| Google Colaboratory |"
   ]
  },
  {
   "cell_type": "markdown",
   "metadata": {},
   "source": [
    "Ejemplos de expresiones aritméticas:\n",
    "1+1\n",
    "2*3\n",
    "5/4\n",
    "7-2"
   ]
  },
  {
   "cell_type": "code",
   "execution_count": 8,
   "metadata": {},
   "outputs": [
    {
     "data": {
      "text/plain": [
       "63"
      ]
     },
     "execution_count": 8,
     "metadata": {},
     "output_type": "execute_result"
    }
   ],
   "source": [
    "# Suma\n",
    "2+3\n",
    "# Multiplicación\n",
    "5*5\n",
    "# Suma y multiplicación\n",
    "(5+4)*7"
   ]
  },
  {
   "cell_type": "code",
   "execution_count": 9,
   "metadata": {},
   "outputs": [
    {
     "data": {
      "text/plain": [
       "3.3333333333333335"
      ]
     },
     "execution_count": 9,
     "metadata": {},
     "output_type": "execute_result"
    }
   ],
   "source": [
    "# Para convertir minutos a horas hay que dividir entre 60\n",
    "# Esto es un ejemplo de como convertir 200 minutos en horas\n",
    "200/60"
   ]
  },
  {
   "cell_type": "markdown",
   "metadata": {},
   "source": [
    "Esto es una lista de los objetivos de aprendizaje del curso:\n",
    "- Describa los componentes del conjunto de herramientas de un científico de datos y enumere varias categorías de herramientas.\n",
    "- \n",
    "Enumere ejemplos de herramientas de código abierto utilizadas en la ciencia de datos.- \n",
    "Describa las características relevantes de las herramientas de código abierto- .\n",
    "Enumere ejemplos de herramientas de ciencia de datos comerciales y basadas en la nube."
   ]
  },
  {
   "cell_type": "markdown",
   "metadata": {},
   "source": [
    "## Author(s)\n",
    "Pedro Díaz García"
   ]
  },
  {
   "cell_type": "code",
   "execution_count": null,
   "metadata": {},
   "outputs": [],
   "source": [
    "https://cf-courses-data.static.labs.skills.network/jupyterlite/latest/lab/index.html?path=IBMDeveloperSkillsNetwork-DS0105EN-SkillsNetwork%2Flabs%2FLabs_V4%2FCurso+IBM+Data+Science.ipynb"
   ]
  }
 ],
 "metadata": {
  "kernelspec": {
   "display_name": "Python",
   "language": "python",
   "name": "conda-env-python-py"
  },
  "language_info": {
   "codemirror_mode": {
    "name": "ipython",
    "version": 3
   },
   "file_extension": ".py",
   "mimetype": "text/x-python",
   "name": "python",
   "nbconvert_exporter": "python",
   "pygments_lexer": "ipython3",
   "version": "3.7.12"
  }
 },
 "nbformat": 4,
 "nbformat_minor": 4
}
