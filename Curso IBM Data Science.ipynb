{
  "metadata": {
    "kernelspec": {
      "name": "python",
      "display_name": "Python (Pyodide)",
      "language": "python"
    },
    "language_info": {
      "codemirror_mode": {
        "name": "python",
        "version": 3
      },
      "file_extension": ".py",
      "mimetype": "text/x-python",
      "name": "python",
      "nbconvert_exporter": "python",
      "pygments_lexer": "ipython3",
      "version": "3.8"
    }
  },
  "nbformat_minor": 4,
  "nbformat": 4,
  "cells": [
    {
      "cell_type": "markdown",
      "source": "Curso IBM Data Science",
      "metadata": {}
    },
    {
      "cell_type": "markdown",
      "source": "Este módulo del curso ha servido como introducción a los lenguajes de ciencia de datos",
      "metadata": {}
    },
    {
      "cell_type": "markdown",
      "source": "Lista de lengajes de ciencia de datos:\n1 Python\n2 R\n3 SQL\n4 Julia\n5 Scala\n6 Java\n7 C++\n",
      "metadata": {}
    },
    {
      "cell_type": "markdown",
      "source": "Lista de librerías de ciencia de datos: \n- Pandas\n- NumPy\n- SciPy\n- Matplotlib ",
      "metadata": {}
    },
    {
      "cell_type": "markdown",
      "source": "|Herramienta |\n| ---------- |\n| Jupiter Notebook | \n| Orange | \n| Anaconda |\n| GitHub |\n| RStudio |\n| Haddop |\n| MongoDB |\n| Google Colaboratory |",
      "metadata": {}
    },
    {
      "cell_type": "markdown",
      "source": "Ejemplos de expresiones aritméticas:\n1+1\n2*3\n5/4\n7-2",
      "metadata": {}
    },
    {
      "cell_type": "code",
      "source": "# Suma\n2+3\n# Multiplicación\n5*5\n# Suma y multiplicación\n(5+4)*7",
      "metadata": {
        "trusted": true
      },
      "outputs": [
        {
          "execution_count": 8,
          "output_type": "execute_result",
          "data": {
            "text/plain": "63"
          },
          "metadata": {}
        }
      ],
      "execution_count": 8
    },
    {
      "cell_type": "code",
      "source": "# Para convertir minutos a horas hay que dividir entre 60\n# Esto es un ejemplo de como convertir 200 minutos en horas\n200/60",
      "metadata": {
        "trusted": true
      },
      "outputs": [
        {
          "execution_count": 9,
          "output_type": "execute_result",
          "data": {
            "text/plain": "3.3333333333333335"
          },
          "metadata": {}
        }
      ],
      "execution_count": 9
    },
    {
      "cell_type": "markdown",
      "source": "Esto es una lista de los objetivos de aprendizaje del curso:\n- Describa los componentes del conjunto de herramientas de un científico de datos y enumere varias categorías de herramientas.\r- \nEnumere ejemplos de herramientas de código abierto utilizadas en la ciencia de datos.- \r\nDescriba las características relevantes de las herramientas de código abierto- .\r\nEnumere ejemplos de herramientas de ciencia de datos comerciales y basadas en la nube.",
      "metadata": {}
    },
    {
      "cell_type": "markdown",
      "source": "Nombre del autor: Pedro Díaz García",
      "metadata": {}
    },
    {
      "cell_type": "code",
      "source": "https://cf-courses-data.static.labs.skills.network/jupyterlite/latest/lab/index.html?path=IBMDeveloperSkillsNetwork-DS0105EN-SkillsNetwork%2Flabs%2FLabs_V4%2FCurso+IBM+Data+Science.ipynb",
      "metadata": {
        "trusted": true
      },
      "outputs": [],
      "execution_count": null
    }
  ]
}